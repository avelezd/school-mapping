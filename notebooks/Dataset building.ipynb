{
 "cells": [
  {
   "cell_type": "markdown",
   "metadata": {},
   "source": [
    "# Dataset building"
   ]
  },
  {
   "cell_type": "markdown",
   "metadata": {},
   "source": [
    "Pseudocode\n",
    "\n",
    "```\n",
    "Open raster\n",
    "Open vector files\n",
    "Reproject vector files to match raster's\n",
    "For each chip in raster:\n",
    "    Extract chip to directory\n",
    "    Set label for chip with vector files\n",
    "Write labels.txt\n",
    "```"
   ]
  },
  {
   "cell_type": "code",
   "execution_count": 14,
   "metadata": {},
   "outputs": [],
   "source": [
    "import rasterio\n",
    "import fiona\n",
    "import numpy as np\n",
    "import os\n",
    "import rtree\n",
    "import pyproj\n",
    "import csv\n",
    "import shutil\n",
    "\n",
    "from shapely.geometry import shape, box \n",
    "from shapely.ops import transform\n",
    "from tqdm import tqdm_notebook\n",
    "from rasterio.windows import Window\n",
    "from skimage.io import imsave\n",
    "from skimage.exposure import is_low_contrast\n",
    "from functools import partial"
   ]
  },
  {
   "cell_type": "code",
   "execution_count": 6,
   "metadata": {},
   "outputs": [],
   "source": [
    "DATA_DIR = os.path.join('..', 'data')\n",
    "\n",
    "RASTER = os.path.join(DATA_DIR, 'montevideo', 'mosaic_jpg.tif')\n",
    "AOI_VECTOR = os.path.join(DATA_DIR, 'montevideo', 'aoi.shp')\n",
    "URBAN_VECTOR = os.path.join(DATA_DIR, 'montevideo', 'urban.shp')\n",
    "RURAL_VECTOR = os.path.join(DATA_DIR, 'montevideo', 'rural.shp')\n",
    "SCHOOL_VECTOR = os.path.join(DATA_DIR, 'montevideo', 'school.geojson')\n",
    "\n",
    "DATASET_DIR = os.path.join(DATA_DIR, 'datasets', '1')\n",
    "WIDTH = 300\n",
    "HEIGHT = 300\n",
    "\n",
    "CLASSES = dict(urban=URBAN_VECTOR, rural=RURAL_VECTOR, school=SCHOOL_VECTOR)"
   ]
  },
  {
   "cell_type": "markdown",
   "metadata": {},
   "source": [
    "## Extract chips and labels from vector files"
   ]
  },
  {
   "cell_type": "markdown",
   "metadata": {},
   "source": [
    "First define some useful functions for building R-Tree indexes and reprojecting shapes:"
   ]
  },
  {
   "cell_type": "code",
   "execution_count": 9,
   "metadata": {},
   "outputs": [],
   "source": [
    "def create_index(shapes):\n",
    "    \"\"\"Create an R-Tree index from a set of shapes\"\"\"\n",
    "    index = rtree.index.Index()\n",
    "    for shape_id, shape in enumerate(shapes):\n",
    "        index.insert(shape_id, shape.bounds)\n",
    "    return index\n",
    "\n",
    "def reproject_shape(shape, src_crs, dst_crs):\n",
    "    \"\"\"Reprojects a shape from some projection to another\"\"\"\n",
    "    src_crs = dict(init=src_crs) if isinstance(src_crs, str) else src_crs\n",
    "    dst_crs = dict(init=dst_crs) if isinstance(dst_crs, str) else dst_crs\n",
    "    project = partial(\n",
    "        pyproj.transform,\n",
    "        pyproj.Proj(init=src_crs['init']),\n",
    "        pyproj.Proj(init=dst_crs['init']))\n",
    "    return transform(project, shape)\n",
    "\n",
    "def get_raster_crs(raster_path):\n",
    "    \"\"\"Return CRS of +raster_path+\"\"\"\n",
    "    with rasterio.open(raster_path) as dataset:\n",
    "        return dataset.crs\n",
    "    \n",
    "def get_shapes(vector_path, target_crs=None):\n",
    "    with fiona.open(vector_path) as dataset:\n",
    "        shapes = (shape(f['geometry']) for f in dataset if f['geometry'])\n",
    "        if dataset.crs != target_crs:\n",
    "            shapes = (reproject_shape(s, dataset.crs, target_crs) for s in shapes)\n",
    "        valid_shapes = [s for s in shapes if s.is_valid]\n",
    "        return valid_shapes\n",
    "\n",
    "def prepare_shapes_by_class(classes, vector_files, target_crs):\n",
    "    \"\"\"Load all shapes from each class vector file\"\"\"\n",
    "    return {class_name: get_shapes(vector_file, target_crs)\n",
    "            for class_name, vector_file in zip(classes, vector_files)}\n",
    "\n",
    "def prepare_index_by_class(classes, shapes):\n",
    "    \"\"\"Build R-Tree index for all classes\"\"\"\n",
    "    return {class_name: create_index(shapes)\n",
    "            for class_name, shapes in zip(classes, shapes)}"
   ]
  },
  {
   "cell_type": "code",
   "execution_count": 10,
   "metadata": {},
   "outputs": [
    {
     "name": "stdout",
     "output_type": "stream",
     "text": [
      "Loading shapes...\n",
      "Building indexes...\n",
      "Done\n"
     ]
    }
   ],
   "source": [
    "# Load shapes for classes and build indexes for fast intersection\n",
    "classes = tuple(CLASSES.keys())\n",
    "raster_crs = get_raster_crs(RASTER)\n",
    "        \n",
    "print(\"Loading shapes...\")\n",
    "shapes_by_class = prepare_shapes_by_class(classes=classes,\n",
    "                                          vector_files=tuple(CLASSES.values()),\n",
    "                                          target_crs=raster_crs['init'])\n",
    "print(\"Building indexes...\")\n",
    "index_by_class = prepare_index_by_class(classes=classes,\n",
    "                                        shapes=tuple(shapes_by_class.values()))\n",
    "\n",
    "print(\"Done\")"
   ]
  },
  {
   "cell_type": "code",
   "execution_count": 13,
   "metadata": {},
   "outputs": [],
   "source": [
    "def any_intersecting_shape(wbox, shapes, index):\n",
    "    \"\"\"Return true iif any shapes intersects with window, or is contained in window\"\"\"\n",
    "    matching_shapes = [shapes[i] for i in index.intersection(wbox.bounds)]\n",
    "    if matching_shapes:\n",
    "        return any(shape.intersection(wbox) for shape in matching_shapes)\n",
    "    else:\n",
    "        return False\n",
    "\n",
    "def get_window_labels(wbox, *, shapes_by_class, index_by_class):\n",
    "    labels = {}\n",
    "    any_label = False\n",
    "    for class_name, shapes in shapes_by_class.items():\n",
    "        index = index_by_class[class_name]\n",
    "        labels[class_name] = any_intersecting_shape(wbox, shapes, index)\n",
    "    return labels\n",
    "        \n",
    "def sliding_windows(size, step_size, width, height):\n",
    "    \"\"\"Slide a window of +size+ by moving it +step_size+ pixels\"\"\"\n",
    "    w, h = size\n",
    "    sw, sh = step_size\n",
    "    for pos_i, i in enumerate(range(0, height - h + 1, sh)):\n",
    "        for pos_j, j in enumerate(range(0, width - w + 1, sw)):\n",
    "            yield Window(j, i, w, h), (pos_i, pos_j)\n",
    "\n",
    "def write_image(img, path):\n",
    "    rgb = np.dstack(img[:3, :, :])\n",
    "    if is_low_contrast(rgb):\n",
    "        return False\n",
    "    os.makedirs(os.path.dirname(path), exist_ok=True)\n",
    "    imsave(path, rgb)\n",
    "    return True\n",
    "\n",
    "def convert_bools(labels):\n",
    "    return {k: (1 if v else 0) for k, v in labels.items()}\n",
    "\n",
    "def build_dataset(raster, aoi_vector=None, *, class_vectors, shapes_by_class, index_by_class, width, height, output_dir):\n",
    "    with rasterio.open(raster) as ds:\n",
    "        print('Raster size: {}'.format((ds.width, ds.height)))\n",
    "        raster_crs = ds.crs\n",
    "        \n",
    "        # Build window list\n",
    "        size = (width, height)\n",
    "        print(\"Building window list...\")\n",
    "        windows = list(sliding_windows(size, size, ds.width, ds.height))\n",
    "        \n",
    "        # TODO Filter windows with aoi_vector\n",
    "        pass\n",
    "    \n",
    "        labels_path = os.path.join(output_dir, 'labels.csv')\n",
    "        os.makedirs(os.path.dirname(labels_path), exist_ok=True)\n",
    "        \n",
    "        with open(labels_path, 'w', newline='') as csvfile:\n",
    "            fieldnames = ['img'] + list(class_vectors.keys())\n",
    "            writer = csv.DictWriter(csvfile, fieldnames=fieldnames)\n",
    "            writer.writeheader()\n",
    "        \n",
    "            for window, (i, j) in tqdm_notebook(windows):\n",
    "                #print(window, (i, j))\n",
    "                img = ds.read(window=window)\n",
    "\n",
    "                img_filename = '{i}_{j}.jpg'.format(i=i, j=j)\n",
    "                img_path = os.path.join(output_dir, 'all', img_filename)\n",
    "                was_image_written = write_image(img, img_path)\n",
    "\n",
    "                if was_image_written:\n",
    "                    # Get window labels\n",
    "                    wbox = box(*ds.window_bounds(window))\n",
    "                    labels = get_window_labels(wbox, shapes_by_class=shapes_by_class, index_by_class=index_by_class)\n",
    "                    labels = convert_bools(labels)\n",
    "\n",
    "                    # Write labels to file\n",
    "                    labels['img'] = img_filename\n",
    "                    writer.writerow(labels)"
   ]
  },
  {
   "cell_type": "code",
   "execution_count": 14,
   "metadata": {},
   "outputs": [
    {
     "name": "stdout",
     "output_type": "stream",
     "text": [
      "Raster size: (109149, 76345)\n",
      "Building window list...\n"
     ]
    },
    {
     "data": {
      "application/vnd.jupyter.widget-view+json": {
       "model_id": "28e1285dafa445e8824e5459f16020d9",
       "version_major": 2,
       "version_minor": 0
      },
      "text/plain": [
       "HBox(children=(IntProgress(value=0, max=92202), HTML(value='')))"
      ]
     },
     "metadata": {},
     "output_type": "display_data"
    },
    {
     "name": "stdout",
     "output_type": "stream",
     "text": [
      "\n"
     ]
    }
   ],
   "source": [
    "build_dataset(RASTER,\n",
    "              width=WIDTH,\n",
    "              height=HEIGHT,\n",
    "              aoi_vector=AOI_VECTOR,\n",
    "              class_vectors=CLASSES,\n",
    "              shapes_by_class=shapes_by_class,\n",
    "              index_by_class=index_by_class,\n",
    "              output_dir=DATASET_DIR)"
   ]
  },
  {
   "cell_type": "markdown",
   "metadata": {},
   "source": [
    "## Train-test split"
   ]
  },
  {
   "cell_type": "code",
   "execution_count": 7,
   "metadata": {},
   "outputs": [],
   "source": [
    "from sklearn.model_selection import train_test_split"
   ]
  },
  {
   "cell_type": "code",
   "execution_count": 8,
   "metadata": {},
   "outputs": [],
   "source": [
    "def parse_label_row(row):\n",
    "    labels = list(row.values())[1:]\n",
    "    labels = [int(label) for label in labels]\n",
    "    return labels\n",
    "\n",
    "def get_instances_and_labels_from_dataset(dataset_dir):\n",
    "    labels_path = os.path.join(dataset_dir, 'labels.csv')\n",
    "    with open(labels_path, newline='') as csvfile:\n",
    "        reader = csv.DictReader(csvfile)\n",
    "        rows = list(reader)\n",
    "    X = np.array([row['img'] for row in rows])\n",
    "    y = np.array([parse_label_row(row) for row in rows])\n",
    "    return X, y"
   ]
  },
  {
   "cell_type": "code",
   "execution_count": 9,
   "metadata": {},
   "outputs": [],
   "source": [
    "X, y = get_instances_and_labels_from_dataset(DATASET_DIR)"
   ]
  },
  {
   "cell_type": "code",
   "execution_count": 10,
   "metadata": {},
   "outputs": [
    {
     "data": {
      "text/plain": [
       "(array(['0_92.jpg', '0_93.jpg', '0_94.jpg', ..., '253_155.jpg',\n",
       "        '253_156.jpg', '253_157.jpg'], dtype='<U11'), array([[0, 0, 0],\n",
       "        [0, 0, 0],\n",
       "        [0, 0, 0],\n",
       "        ...,\n",
       "        [0, 0, 0],\n",
       "        [0, 0, 0],\n",
       "        [0, 0, 0]]))"
      ]
     },
     "execution_count": 10,
     "metadata": {},
     "output_type": "execute_result"
    }
   ],
   "source": [
    "X, y"
   ]
  },
  {
   "cell_type": "code",
   "execution_count": 11,
   "metadata": {},
   "outputs": [],
   "source": [
    "X_train, X_test, y_train, y_test = train_test_split(\n",
    "    X, y, test_size=0.20, random_state=42)"
   ]
  },
  {
   "cell_type": "code",
   "execution_count": 16,
   "metadata": {},
   "outputs": [],
   "source": [
    "# Create symlinks\n",
    "all_dir = os.path.abspath(os.path.join(DATASET_DIR, 'all'))\n",
    "train_dir = os.path.abspath(os.path.join(DATASET_DIR, 'train'))\n",
    "test_dir = os.path.abspath(os.path.join(DATASET_DIR, 'test'))\n",
    "\n",
    "os.makedirs(train_dir, exist_ok=True)\n",
    "os.makedirs(test_dir, exist_ok=True)\n",
    "\n",
    "for fname in X_train:\n",
    "    shutil.copyfile(os.path.join(all_dir, fname), os.path.join(train_dir, fname))\n",
    "\n",
    "for fname in X_test:\n",
    "    shutil.copyfile(os.path.join(all_dir, fname), os.path.join(test_dir, fname))"
   ]
  },
  {
   "cell_type": "markdown",
   "metadata": {},
   "source": [
    "## Class balancing"
   ]
  },
  {
   "cell_type": "code",
   "execution_count": 17,
   "metadata": {},
   "outputs": [],
   "source": [
    "from sklearn.utils import class_weight"
   ]
  },
  {
   "cell_type": "code",
   "execution_count": 26,
   "metadata": {},
   "outputs": [],
   "source": [
    "y_ints = [y.argmax() for y in y_train]\n",
    "class_weights = class_weight.compute_class_weight('balanced', np.unique(y_ints), y_ints)"
   ]
  },
  {
   "cell_type": "code",
   "execution_count": 27,
   "metadata": {},
   "outputs": [
    {
     "data": {
      "text/plain": [
       "array([  0.42842266,   1.51206851, 221.69444444])"
      ]
     },
     "execution_count": 27,
     "metadata": {},
     "output_type": "execute_result"
    }
   ],
   "source": [
    "class_weights"
   ]
  },
  {
   "cell_type": "code",
   "execution_count": 31,
   "metadata": {},
   "outputs": [
    {
     "data": {
      "text/plain": [
       "260"
      ]
     },
     "execution_count": 31,
     "metadata": {},
     "output_type": "execute_result"
    }
   ],
   "source": [
    "np.sum(y_train[:,2])"
   ]
  },
  {
   "cell_type": "code",
   "execution_count": 32,
   "metadata": {},
   "outputs": [
    {
     "data": {
      "text/plain": [
       "39905"
      ]
     },
     "execution_count": 32,
     "metadata": {},
     "output_type": "execute_result"
    }
   ],
   "source": [
    "len(y_train)"
   ]
  }
 ],
 "metadata": {
  "kernelspec": {
   "display_name": "Python 3",
   "language": "python",
   "name": "python3"
  },
  "language_info": {
   "codemirror_mode": {
    "name": "ipython",
    "version": 3
   },
   "file_extension": ".py",
   "mimetype": "text/x-python",
   "name": "python",
   "nbconvert_exporter": "python",
   "pygments_lexer": "ipython3",
   "version": "3.6.7"
  }
 },
 "nbformat": 4,
 "nbformat_minor": 2
}
